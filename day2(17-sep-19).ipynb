{
 "cells": [
  {
   "cell_type": "markdown",
   "metadata": {},
   "source": [
    "## DAY2 OBJECTIVES:\n",
    "- Python Introduction\n",
    "- Python Variables\n",
    "- operators\n",
    "- string and string functions"
   ]
  },
  {
   "cell_type": "code",
   "execution_count": null,
   "metadata": {},
   "outputs": [],
   "source": [
    "c=0\n",
    "print(type(c))\n",
    "c=5/2\n",
    "print(type(c))\n",
    "c=\"hfhfieog\"\n",
    "print(type(c))\n",
    "a=b=c=10\n",
    "print(a)\n",
    "print(b)\n",
    "print(c)\n",
    "a,b,c\n",
    "a,b\n",
    "name,age,roll_no=\"apssdc\",\"24.5\",\"4354654\"\n",
    "print(type(name))\n",
    "print(type(age))\n",
    "print(type(roll_no))\n",
    "type(name)\n",
    "print(c,type(c),name,type(name))\n",
    "print(c,type(c),name,type(name))\n",
    "print(age,\"=\",type(age),name,\":\",type(name))\n"
   ]
  },
  {
   "cell_type": "code",
   "execution_count": null,
   "metadata": {},
   "outputs": [],
   "source": [
    "a,b=10,20\n",
    "a,b\n",
    "a=a+b\n",
    "b=a-b\n",
    "a=a-b\n",
    "a,b\n",
    "b,a=a,b"
   ]
  },
  {
   "cell_type": "code",
   "execution_count": null,
   "metadata": {},
   "outputs": [],
   "source": [
    "a=input((\"enter a value\"))\n",
    "a\n",
    "type(a)\n",
    "b=int(input((\"enter a value\")))\n",
    "type(b)\n"
   ]
  },
  {
   "cell_type": "code",
   "execution_count": null,
   "metadata": {},
   "outputs": [],
   "source": [
    "n=str(input(\"enter\"))\n",
    "n\n",
    "print(\"welcome\",n)"
   ]
  },
  {
   "cell_type": "code",
   "execution_count": null,
   "metadata": {},
   "outputs": [],
   "source": [
    "2+4\n",
    "5-3\n",
    "4/2\n",
    "\"man \"*3\n",
    "4//2\n",
    "2**3"
   ]
  },
  {
   "cell_type": "code",
   "execution_count": null,
   "metadata": {},
   "outputs": [],
   "source": [
    "\"man \"*3\n"
   ]
  },
  {
   "cell_type": "code",
   "execution_count": 10,
   "metadata": {},
   "outputs": [
    {
     "data": {
      "text/plain": [
       "1"
      ]
     },
     "execution_count": 10,
     "metadata": {},
     "output_type": "execute_result"
    }
   ],
   "source": [
    "3>5\n",
    "5>=5\n",
    "a,b=4,5\n",
    "a>b\n",
    "c,d=1,2\n",
    "a<b and c<d\n",
    "a<b or c<d\n",
    "not a<b\n",
    "2&3\n",
    "# sjgdgjo\n",
    "2|3\n",
    "2<<1\n",
    "# 2-->0010\n",
    "# 0100\n",
    "2>>1\n",
    "# 0001"
   ]
  },
  {
   "cell_type": "code",
   "execution_count": 13,
   "metadata": {},
   "outputs": [
    {
     "data": {
      "text/plain": [
       "101"
      ]
     },
     "execution_count": 13,
     "metadata": {},
     "output_type": "execute_result"
    }
   ],
   "source": [
    "a=1\n",
    "a\n",
    "a+=100\n",
    "a\n"
   ]
  },
  {
   "cell_type": "code",
   "execution_count": 17,
   "metadata": {},
   "outputs": [
    {
     "data": {
      "text/plain": [
       "140733687829344"
      ]
     },
     "execution_count": 17,
     "metadata": {},
     "output_type": "execute_result"
    }
   ],
   "source": [
    "a=[1,2,3,4]\n",
    "8 in a\n",
    "1 in a\n",
    "2 is 3\n",
    "id(2)"
   ]
  }
 ],
 "metadata": {
  "kernelspec": {
   "display_name": "Python 3",
   "language": "python",
   "name": "python3"
  },
  "language_info": {
   "codemirror_mode": {
    "name": "ipython",
    "version": 3
   },
   "file_extension": ".py",
   "mimetype": "text/x-python",
   "name": "python",
   "nbconvert_exporter": "python",
   "pygments_lexer": "ipython3",
   "version": "3.7.3"
  }
 },
 "nbformat": 4,
 "nbformat_minor": 2
}
